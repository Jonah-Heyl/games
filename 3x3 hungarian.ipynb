{
 "cells": [
  {
   "cell_type": "code",
   "execution_count": 3,
   "metadata": {},
   "outputs": [],
   "source": [
    "using LinearAlgebra"
   ]
  },
  {
   "cell_type": "code",
   "execution_count": 5,
   "metadata": {},
   "outputs": [
    {
     "data": {
      "text/plain": [
       "(3, 3)"
      ]
     },
     "execution_count": 5,
     "metadata": {},
     "output_type": "execute_result"
    }
   ],
   "source": [
    "g1=[2 4 3]\n",
    "g2=[3 2 3]\n",
    "g3=[3 3 2]\n",
    "game=[g1;g2;g3]\n",
    "size(game)"
   ]
  },
  {
   "cell_type": "code",
   "execution_count": 8,
   "metadata": {},
   "outputs": [
    {
     "data": {
      "text/plain": [
       "3×3 Matrix{Int64}:\n",
       " 0  2  1\n",
       " 1  0  1\n",
       " 1  1  0"
      ]
     },
     "execution_count": 8,
     "metadata": {},
     "output_type": "execute_result"
    }
   ],
   "source": [
    "function stp1(game)\n",
    "    v=[]\n",
    "    for i in size(game)[1]\n",
    "        push!(v,findmin(game[1,:])[1])\n",
    "    end\n",
    "    p1=game.-v\n",
    "    return p1\n",
    "end"
   ]
  },
  {
   "cell_type": "code",
   "execution_count": 11,
   "metadata": {},
   "outputs": [
    {
     "data": {
      "text/plain": [
       "stp2 (generic function with 1 method)"
      ]
     },
     "execution_count": 11,
     "metadata": {},
     "output_type": "execute_result"
    }
   ],
   "source": [
    "function stp2(game)\n",
    "    row=transpose(game)\n",
    "    v=[findmin(row[1:3])[1];findmin(row[3:6])[1];findmin(row[6:9])[1]]\n",
    "    p2=game.-v\n",
    "    return p2\n",
    "end"
   ]
  },
  {
   "cell_type": "code",
   "execution_count": 12,
   "metadata": {},
   "outputs": [
    {
     "data": {
      "text/plain": [
       "stp3_a (generic function with 1 method)"
      ]
     },
     "execution_count": 12,
     "metadata": {},
     "output_type": "execute_result"
    }
   ],
   "source": [
    "function stp3_a(row,list)\n",
    "    if findmin(row)[1]!=0\n",
    "        for i in row\n",
    "            push!(list,i)\n",
    "        end\n",
    "    end\n",
    "end"
   ]
  },
  {
   "cell_type": "code",
   "execution_count": 13,
   "metadata": {},
   "outputs": [
    {
     "data": {
      "text/plain": [
       "stp3_aa (generic function with 1 method)"
      ]
     },
     "execution_count": 13,
     "metadata": {},
     "output_type": "execute_result"
    }
   ],
   "source": [
    "function stp3_aa(game)\n",
    "    list=[]\n",
    "    g1=game[:,1]\n",
    "    g2=game[:,2]\n",
    "    g3=game[:,3]\n",
    "    g1t=game[1,:]\n",
    "    g2t=game[2,:]\n",
    "    g3t=game[3,:]\n",
    "    stp3_a(g1,list)\n",
    "    stp3_a(g2,list)\n",
    "    stp3_a(g2,list)\n",
    "    stp3_a(g1t,list)\n",
    "    stp3_a(g2t,list)\n",
    "    stp3_a(g2t,list)\n",
    "    if list != Any[]\n",
    "        q=findmin(list)[1]\n",
    "    end\n",
    "    if list==Any[]\n",
    "        q=0\n",
    "    end\n",
    "    return q\n",
    "end\n",
    "\n"
   ]
  },
  {
   "cell_type": "code",
   "execution_count": 147,
   "metadata": {},
   "outputs": [
    {
     "data": {
      "text/plain": [
       "how_many_zeros (generic function with 1 method)"
      ]
     },
     "execution_count": 147,
     "metadata": {},
     "output_type": "execute_result"
    }
   ],
   "source": [
    "function how_many_zeros(index1,index2,p2)\n",
    "    row = p2[index1,:]\n",
    "    col = p2[:,index2]\n",
    "    counta=0\n",
    "    countb=0\n",
    "    for i in row\n",
    "        if i ==0\n",
    "            counta=1\n",
    "        end\n",
    "    end\n",
    "        for i in col \n",
    "            if i==0\n",
    "                counb=1\n",
    "            end\n",
    "        end\n",
    "    return countb+counta\n",
    "end"
   ]
  },
  {
   "cell_type": "code",
   "execution_count": 148,
   "metadata": {},
   "outputs": [
    {
     "data": {
      "text/plain": [
       "phase4 (generic function with 1 method)"
      ]
     },
     "execution_count": 148,
     "metadata": {},
     "output_type": "execute_result"
    }
   ],
   "source": [
    "function phase4(A,q)\n",
    "    q=stp3_aa(A)\n",
    "    if q==0\n",
    "        return \"done\"\n",
    "    end\n",
    "    for i in 3\n",
    "        for j in 3\n",
    "            if (how_many_zeros(i,j,A)==2)\n",
    "                A[i,j]=A[i,j]-q\n",
    "            end\n",
    "            if (how_many_zeros(i,j,A)==1)\n",
    "                A[i,j]=A[i,j]+q\n",
    "            end\n",
    "        end\n",
    "    end\n",
    "end"
   ]
  },
  {
   "cell_type": "code",
   "execution_count": 149,
   "metadata": {},
   "outputs": [
    {
     "data": {
      "text/plain": [
       "hungarian (generic function with 1 method)"
      ]
     },
     "execution_count": 149,
     "metadata": {},
     "output_type": "execute_result"
    }
   ],
   "source": [
    "function hungarian(A)\n",
    "    p1=stp1(A)\n",
    "    p2=stp2(p1) #I took the example off wikipedia which was very simple so we've actaully finshed here\n",
    "    q=stp3_aa(p2)\n",
    "    for i in 100\n",
    "        if phase4(p2,q)==\"done\"\n",
    "            return p2\n",
    "        end\n",
    "        p2=phase4(p2,q)\n",
    "    end\n",
    "    return p2\n",
    "end"
   ]
  },
  {
   "cell_type": "code",
   "execution_count": 150,
   "metadata": {},
   "outputs": [
    {
     "data": {
      "text/plain": [
       "3×3 Matrix{Int64}:\n",
       " 0  2  1\n",
       " 1  0  1\n",
       " 1  1  0"
      ]
     },
     "execution_count": 150,
     "metadata": {},
     "output_type": "execute_result"
    }
   ],
   "source": [
    "hungarian(game)"
   ]
  },
  {
   "cell_type": "code",
   "execution_count": null,
   "metadata": {},
   "outputs": [],
   "source": []
  },
  {
   "cell_type": "code",
   "execution_count": null,
   "metadata": {},
   "outputs": [],
   "source": []
  },
  {
   "cell_type": "code",
   "execution_count": null,
   "metadata": {},
   "outputs": [],
   "source": []
  }
 ],
 "metadata": {
  "kernelspec": {
   "display_name": "Julia 1.7.1",
   "language": "julia",
   "name": "julia-1.7"
  },
  "language_info": {
   "file_extension": ".jl",
   "mimetype": "application/julia",
   "name": "julia",
   "version": "1.7.1"
  }
 },
 "nbformat": 4,
 "nbformat_minor": 4
}
