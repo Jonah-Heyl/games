{
 "cells": [
  {
   "cell_type": "code",
   "execution_count": 1,
   "metadata": {},
   "outputs": [],
   "source": [
    "using LinearAlgebra"
   ]
  },
  {
   "cell_type": "code",
   "execution_count": 64,
   "metadata": {},
   "outputs": [
    {
     "data": {
      "text/plain": [
       "(4, 4)"
      ]
     },
     "execution_count": 64,
     "metadata": {},
     "output_type": "execute_result"
    }
   ],
   "source": [
    "g1=[2 4 3 1]\n",
    "g2=[3 2 3 1]\n",
    "g3=[3 3 2 1]\n",
    "g4=[3 3 2 1]\n",
    "game=[g1;g2;g3;g4]\n",
    "size(game)"
   ]
  },
  {
   "cell_type": "code",
   "execution_count": 65,
   "metadata": {},
   "outputs": [
    {
     "data": {
      "text/plain": [
       "stp1 (generic function with 1 method)"
      ]
     },
     "execution_count": 65,
     "metadata": {},
     "output_type": "execute_result"
    }
   ],
   "source": [
    "function stp1(game)\n",
    "    v=[]\n",
    "    for i in size(game)[1]\n",
    "        push!(v,findmin(game[i,:])[1])\n",
    "    end\n",
    "    p1=game.-v\n",
    "    return p1\n",
    "end"
   ]
  },
  {
   "cell_type": "code",
   "execution_count": 66,
   "metadata": {},
   "outputs": [
    {
     "data": {
      "text/plain": [
       "stp2 (generic function with 1 method)"
      ]
     },
     "execution_count": 66,
     "metadata": {},
     "output_type": "execute_result"
    }
   ],
   "source": [
    "function stp2(game)\n",
    "    row=transpose(game)\n",
    "      v=[]\n",
    "    for i in size(row)[2]\n",
    "        push!(v,findmin(row[i,:])[1])\n",
    "    end\n",
    "    p2=game.-v\n",
    "    return p2\n",
    "end"
   ]
  },
  {
   "cell_type": "code",
   "execution_count": 67,
   "metadata": {},
   "outputs": [
    {
     "data": {
      "text/plain": [
       "stp3_a (generic function with 1 method)"
      ]
     },
     "execution_count": 67,
     "metadata": {},
     "output_type": "execute_result"
    }
   ],
   "source": [
    "function stp3_a(row,list)\n",
    "    if findmin(row)[1]!=0\n",
    "        for y in row\n",
    "            push!(list,y)\n",
    "        end\n",
    "    end\n",
    "end"
   ]
  },
  {
   "cell_type": "code",
   "execution_count": 68,
   "metadata": {},
   "outputs": [
    {
     "data": {
      "text/plain": [
       "stp3_aa (generic function with 1 method)"
      ]
     },
     "execution_count": 68,
     "metadata": {},
     "output_type": "execute_result"
    }
   ],
   "source": [
    "function stp3_aa(game)\n",
    "    list=[]\n",
    "    for i in size(game)[1]\n",
    "        stp3_a(game[i,:],list)\n",
    "    end\n",
    "    \n",
    "    row=transpose(game)\n",
    "    \n",
    "    for j in size(row)[1]\n",
    "        stp3_a(row[j,:],list)\n",
    "    end\n",
    "\n",
    "    if list != Any[]\n",
    "        q=findmin(list)[1]\n",
    "    end\n",
    "    if list==Any[]\n",
    "        q=0\n",
    "    end\n",
    "    return q\n",
    "end"
   ]
  },
  {
   "cell_type": "code",
   "execution_count": 69,
   "metadata": {},
   "outputs": [
    {
     "data": {
      "text/plain": [
       "how_many_zeros (generic function with 1 method)"
      ]
     },
     "execution_count": 69,
     "metadata": {},
     "output_type": "execute_result"
    }
   ],
   "source": [
    "function how_many_zeros(index1,index2,p2)\n",
    "    row = p2[index1,:]\n",
    "    col = p2[:,index2]\n",
    "    counta=0\n",
    "    countb=0\n",
    "    for i in row\n",
    "        if i ==0\n",
    "            counta=1\n",
    "        end\n",
    "    end\n",
    "        for i in col \n",
    "            if i==0\n",
    "                counb=1\n",
    "            end\n",
    "        end\n",
    "    return countb+counta\n",
    "end"
   ]
  },
  {
   "cell_type": "code",
   "execution_count": 70,
   "metadata": {},
   "outputs": [
    {
     "data": {
      "text/plain": [
       "phase4 (generic function with 1 method)"
      ]
     },
     "execution_count": 70,
     "metadata": {},
     "output_type": "execute_result"
    }
   ],
   "source": [
    "function phase4(A,q)\n",
    "    q=stp3_aa(A)\n",
    "    if q==0\n",
    "        return \"done\"\n",
    "    end\n",
    "    for i in size(A)[1]\n",
    "        for j in size(A)[2]\n",
    "            if (how_many_zeros(i,j,A)==2)\n",
    "                A[i,j]=A[i,j]-q\n",
    "            end\n",
    "            if (how_many_zeros(i,j,A)==1)\n",
    "                A[i,j]=A[i,j]+q\n",
    "            end\n",
    "        end\n",
    "    end\n",
    "end"
   ]
  },
  {
   "cell_type": "code",
   "execution_count": 71,
   "metadata": {},
   "outputs": [
    {
     "data": {
      "text/plain": [
       "hungarian (generic function with 1 method)"
      ]
     },
     "execution_count": 71,
     "metadata": {},
     "output_type": "execute_result"
    }
   ],
   "source": [
    "function hungarian(A)\n",
    "    p1=stp1(A)\n",
    "    p2=stp2(p1) #I took the example off wikipedia which was very simple so we've actaully finshed here\n",
    "    q=stp3_aa(p2)\n",
    "    for i in 100\n",
    "        if phase4(p2,q)==\"done\"\n",
    "            return p2\n",
    "        end\n",
    "        p2=phase4(p2,q)\n",
    "    end\n",
    "    return p2\n",
    "end"
   ]
  },
  {
   "cell_type": "code",
   "execution_count": 72,
   "metadata": {},
   "outputs": [
    {
     "data": {
      "text/plain": [
       "4×4 Matrix{Int64}:\n",
       " 1  3  2  0\n",
       " 2  1  2  0\n",
       " 2  2  1  0\n",
       " 2  2  1  0"
      ]
     },
     "execution_count": 72,
     "metadata": {},
     "output_type": "execute_result"
    }
   ],
   "source": [
    "hungarian(game)"
   ]
  },
  {
   "cell_type": "code",
   "execution_count": null,
   "metadata": {},
   "outputs": [],
   "source": []
  }
 ],
 "metadata": {
  "kernelspec": {
   "display_name": "Julia 1.7.1",
   "language": "julia",
   "name": "julia-1.7"
  },
  "language_info": {
   "file_extension": ".jl",
   "mimetype": "application/julia",
   "name": "julia",
   "version": "1.7.1"
  }
 },
 "nbformat": 4,
 "nbformat_minor": 4
}
