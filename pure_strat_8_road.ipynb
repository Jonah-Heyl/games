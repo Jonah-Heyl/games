{
 "cells": [
  {
   "cell_type": "code",
   "execution_count": 1,
   "metadata": {},
   "outputs": [],
   "source": [
    "def set(game):\n",
    "    lista=[]\n",
    "    for x in game:\n",
    "        lista.append(x[0])\n",
    "    max_val=max(lista)\n",
    "    max_ind = lista.index(max_val)\n",
    "    return max_ind"
   ]
  },
  {
   "cell_type": "code",
   "execution_count": 2,
   "metadata": {},
   "outputs": [],
   "source": [
    "def algo (game,players):\n",
    "    game[set(game)][1]=8   #this set's up the list with 8 players in the last spot\n",
    "\n",
    "    print(game,\"start\")\n",
    "    for y in range(0,players-2):\n",
    "        list=[] # creates an empty list\n",
    "        count=0 #an index varible\n",
    "        for x in game:\n",
    "            count+=1\n",
    "            if count < 8:\n",
    "                list.append(x[0]/(x[1]+1)) #this fills the list with payouts, where takeing advatage of the game specfic feature of there only being one player per room except for in room 8\n",
    "            else:\n",
    "                list.append(x[0]/(x[1])) #this basicly says when we look at the pay off of the last room we factor in spliting \n",
    "        max_val=max(list) \n",
    "        max_ind = list.index(max_val) #finds index of the max value in the list\n",
    "        \n",
    "        if (max_ind != 7):  #this is the players decideing to move around they each only get one descion,but this descion they makeing by maximing their utlitiy, so once they get in their postion they would have no incetive to move\n",
    "            game[max_ind][1]=1\n",
    "            game[7][1]=game[7][1]-1\n",
    "        print(game,\"working on it\") \n",
    "    print(game,\"done\") \n",
    "    "
   ]
  },
  {
   "cell_type": "code",
   "execution_count": 3,
   "metadata": {},
   "outputs": [],
   "source": [
    "game=[[40,0],[50,0],[50,0],[50,0],[70,0],[70,0],[70,0],[100,0]]\n"
   ]
  },
  {
   "cell_type": "code",
   "execution_count": 4,
   "metadata": {},
   "outputs": [
    {
     "name": "stdout",
     "output_type": "stream",
     "text": [
      "[[40, 0], [50, 0], [50, 0], [50, 0], [70, 0], [70, 0], [70, 0], [100, 8]] start\n",
      "[[40, 0], [50, 0], [50, 0], [50, 0], [70, 1], [70, 0], [70, 0], [100, 7]] working on it\n",
      "[[40, 0], [50, 0], [50, 0], [50, 0], [70, 1], [70, 1], [70, 0], [100, 6]] working on it\n",
      "[[40, 0], [50, 0], [50, 0], [50, 0], [70, 1], [70, 1], [70, 1], [100, 5]] working on it\n",
      "[[40, 0], [50, 1], [50, 0], [50, 0], [70, 1], [70, 1], [70, 1], [100, 4]] working on it\n",
      "[[40, 0], [50, 1], [50, 1], [50, 0], [70, 1], [70, 1], [70, 1], [100, 3]] working on it\n",
      "[[40, 0], [50, 1], [50, 1], [50, 1], [70, 1], [70, 1], [70, 1], [100, 2]] working on it\n",
      "[[40, 0], [50, 1], [50, 1], [50, 1], [70, 1], [70, 1], [70, 1], [100, 2]] done\n"
     ]
    }
   ],
   "source": [
    "algo([[40,0],[50,0],[50,0],[50,0],[70,0],[70,0],[70,0],[100,0]],8)"
   ]
  }
 ],
 "metadata": {
  "kernelspec": {
   "display_name": "Python 3",
   "language": "python",
   "name": "python3"
  },
  "language_info": {
   "codemirror_mode": {
    "name": "ipython",
    "version": 3
   },
   "file_extension": ".py",
   "mimetype": "text/x-python",
   "name": "python",
   "nbconvert_exporter": "python",
   "pygments_lexer": "ipython3",
   "version": "3.7.6"
  }
 },
 "nbformat": 4,
 "nbformat_minor": 4
}
