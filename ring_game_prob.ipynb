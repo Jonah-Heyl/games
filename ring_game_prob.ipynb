{
 "cells": [
  {
   "cell_type": "code",
   "execution_count": 1,
   "metadata": {},
   "outputs": [],
   "source": [
    "using Statistics\n",
    "using LinearAlgebra"
   ]
  },
  {
   "cell_type": "code",
   "execution_count": 2,
   "metadata": {},
   "outputs": [
    {
     "data": {
      "text/plain": [
       "3×3 Matrix{Int64}:\n",
       " 12  16  14\n",
       "  8  12  10\n",
       "  6  10   8"
      ]
     },
     "execution_count": 2,
     "metadata": {},
     "output_type": "execute_result"
    }
   ],
   "source": [
    "G1=[8 20 12; 0 8 16; 18 12 6]\n",
    "G2=[14 18 4; 20 8 14; 0 16 18]\n",
    "G3=[20 14 8; 16 2 18; 0 16 16]\n",
    "G4=[12 16 14; 8 12 10; 6 10 8]"
   ]
  },
  {
   "cell_type": "code",
   "execution_count": 6,
   "metadata": {},
   "outputs": [
    {
     "name": "stdout",
     "output_type": "stream",
     "text": [
      "yo"
     ]
    }
   ],
   "source": [
    "a=rand((1,2,3),1000000)\n",
    "    b=rand((1,2,3),1000000)\n",
    "    c=rand((1,2,3),1000000)\n",
    "    d=rand((1,2,3),1000000)\n",
    "print(\"yo\")"
   ]
  },
  {
   "cell_type": "code",
   "execution_count": 12,
   "metadata": {},
   "outputs": [
    {
     "data": {
      "text/plain": [
       "fn (generic function with 2 methods)"
      ]
     },
     "execution_count": 12,
     "metadata": {},
     "output_type": "execute_result"
    }
   ],
   "source": [
    "function fn(arb,t,G,r,x)\n",
    "    payoutb=[]\n",
    "    index=1\n",
    "    countb=1\n",
    "    count=0\n",
    "    prof=0\n",
    "    for i in  arb\n",
    "        if i==t\n",
    "            countb= countb+1\n",
    "            prof=prof+G[i,r[index]]\n",
    "            if prof>x\n",
    "                count=count+1\n",
    "            end\n",
    "            payoutb=[count,countb]\n",
    "        end\n",
    "        index=index+1\n",
    "    end\n",
    "    return (payoutb[1]/payoutb[2])\n",
    "end"
   ]
  },
  {
   "cell_type": "code",
   "execution_count": 14,
   "metadata": {},
   "outputs": [
    {
     "data": {
      "text/plain": [
       "0.999996999988"
      ]
     },
     "execution_count": 14,
     "metadata": {},
     "output_type": "execute_result"
    }
   ],
   "source": [
    "fn(a,1,G1,d,12)"
   ]
  },
  {
   "cell_type": "code",
   "execution_count": 27,
   "metadata": {},
   "outputs": [
    {
     "data": {
      "text/plain": [
       "cell (generic function with 2 methods)"
      ]
     },
     "execution_count": 27,
     "metadata": {},
     "output_type": "execute_result"
    }
   ],
   "source": [
    "function cell(x)\n",
    "    g1=[fn(a,1,G1,d,x),fn(a,2,G1,d,x),fn(a,3,G1,d,x)]\n",
    "    g2=[fn(b,1,G2,a,x),fn(b,2,G2,a,x),fn(b,3,G2,a,x)]\n",
    "    g3=[fn(c,1,G3,b,x),fn(c,2,G3,b,x),fn(c,3,G3,b,x)]\n",
    "    g4=[fn(d,1,G4,c,x),fn(d,2,G4,c,x),fn(d,3,G4,c,x)]\n",
    "    z=findmax(g1)\n",
    "    y=findmax(g2)\n",
    "    p=findmax(g3)\n",
    "    w=findmax(g4) \n",
    "    list=[z[2],y[2],p[2],w[2]]\n",
    "    return list\n",
    "end"
   ]
  },
  {
   "cell_type": "code",
   "execution_count": 31,
   "metadata": {},
   "outputs": [
    {
     "data": {
      "text/plain": [
       "4-element Vector{Int64}:\n",
       " 3\n",
       " 3\n",
       " 1\n",
       " 1"
      ]
     },
     "execution_count": 31,
     "metadata": {},
     "output_type": "execute_result"
    }
   ],
   "source": [
    "cell(20) #this picks a strategy that has the greatest probability of getting  more than 16 "
   ]
  },
  {
   "cell_type": "markdown",
   "metadata": {},
   "source": [
    "What is interesting is since each player is indifferent between multiple strategies (given their criteria) the mixing persistence into level 2 players as well. With this approach, since we are sampling or having the players do fake games, each player will never be indifferent (by this I mean indiffrence is extremely unlikely to occur) between two strategies. This is because they use experimental probability, not a theoretical probability."
   ]
  },
  {
   "cell_type": "code",
   "execution_count": null,
   "metadata": {},
   "outputs": [],
   "source": []
  },
  {
   "cell_type": "code",
   "execution_count": null,
   "metadata": {},
   "outputs": [],
   "source": []
  }
 ],
 "metadata": {
  "kernelspec": {
   "display_name": "Julia 1.7.1",
   "language": "julia",
   "name": "julia-1.7"
  },
  "language_info": {
   "file_extension": ".jl",
   "mimetype": "application/julia",
   "name": "julia",
   "version": "1.7.1"
  }
 },
 "nbformat": 4,
 "nbformat_minor": 4
}
