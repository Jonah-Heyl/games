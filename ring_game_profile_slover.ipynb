{
 "cells": [
  {
   "cell_type": "code",
   "execution_count": 1,
   "metadata": {},
   "outputs": [],
   "source": [
    "using Statistics\n",
    "using LinearAlgebra"
   ]
  },
  {
   "cell_type": "code",
   "execution_count": 2,
   "metadata": {},
   "outputs": [
    {
     "data": {
      "text/plain": [
       "3×3 Matrix{Int64}:\n",
       "  8  20  12\n",
       "  0   8  16\n",
       " 18  12   6"
      ]
     },
     "execution_count": 2,
     "metadata": {},
     "output_type": "execute_result"
    }
   ],
   "source": [
    "G1=[8 20 12; 0 8 16; 18 12 6]"
   ]
  },
  {
   "cell_type": "code",
   "execution_count": 3,
   "metadata": {},
   "outputs": [
    {
     "data": {
      "text/plain": [
       "3×3 Matrix{Int64}:\n",
       " 14  18   4\n",
       " 20   8  14\n",
       "  0  16  18"
      ]
     },
     "execution_count": 3,
     "metadata": {},
     "output_type": "execute_result"
    }
   ],
   "source": [
    "G2=[14 18 4; 20 8 14; 0 16 18]"
   ]
  },
  {
   "cell_type": "code",
   "execution_count": 4,
   "metadata": {},
   "outputs": [
    {
     "data": {
      "text/plain": [
       "3×3 Matrix{Int64}:\n",
       " 20  14   8\n",
       " 16   2  18\n",
       "  0  16  16"
      ]
     },
     "execution_count": 4,
     "metadata": {},
     "output_type": "execute_result"
    }
   ],
   "source": [
    "G3=[20 14 8; 16 2 18; 0 16 16]"
   ]
  },
  {
   "cell_type": "code",
   "execution_count": 5,
   "metadata": {},
   "outputs": [
    {
     "data": {
      "text/plain": [
       "3×3 Matrix{Int64}:\n",
       " 12  16  14\n",
       "  8  12  10\n",
       "  6  10   8"
      ]
     },
     "execution_count": 5,
     "metadata": {},
     "output_type": "execute_result"
    }
   ],
   "source": [
    "G4=[12 16 14; 8 12 10; 6 10 8]"
   ]
  },
  {
   "cell_type": "code",
   "execution_count": 25,
   "metadata": {},
   "outputs": [
    {
     "data": {
      "text/plain": [
       "4-element Vector{Matrix{Int64}}:\n",
       " [8 20 12; 0 8 16; 18 12 6]\n",
       " [14 18 4; 20 8 14; 0 16 18]\n",
       " [20 14 8; 16 2 18; 0 16 16]\n",
       " [12 16 14; 8 12 10; 6 10 8]"
      ]
     },
     "execution_count": 25,
     "metadata": {},
     "output_type": "execute_result"
    }
   ],
   "source": [
    "game=[G1,G2,G3,G4]"
   ]
  },
  {
   "cell_type": "code",
   "execution_count": 14,
   "metadata": {},
   "outputs": [
    {
     "data": {
      "text/plain": [
       "expeted (generic function with 1 method)"
      ]
     },
     "execution_count": 14,
     "metadata": {},
     "output_type": "execute_result"
    }
   ],
   "source": [
    "function expeted(payoutb)\n",
    "    e=payoutb[1]/payoutb[2]\n",
    "end"
   ]
  },
  {
   "cell_type": "code",
   "execution_count": 34,
   "metadata": {},
   "outputs": [
    {
     "name": "stdout",
     "output_type": "stream",
     "text": [
      "random arrays"
     ]
    }
   ],
   "source": [
    "    a=rand((1,2,3),1000000)\n",
    "    b=rand((1,2,3),1000000)\n",
    "    c=rand((1,2,3),1000000)\n",
    "    d=rand((1,2,3),1000000) #clearly if you want the expectation to be closer to the theortical ones you increase the number of random observations\n",
    "actions=[a,b,c,d]\n",
    "print(\"random arrays\")"
   ]
  },
  {
   "cell_type": "code",
   "execution_count": 35,
   "metadata": {},
   "outputs": [
    {
     "data": {
      "text/plain": [
       "fn (generic function with 2 methods)"
      ]
     },
     "execution_count": 35,
     "metadata": {},
     "output_type": "execute_result"
    }
   ],
   "source": [
    "function fn(arb,t,G,r)\n",
    "    payoutb=[]\n",
    "    index=1\n",
    "    countb=1\n",
    "    prof=0\n",
    "    for i in  arb\n",
    "        if i==t\n",
    "            countb= countb+1\n",
    "            prof=prof+G[i,r[index]]\n",
    "            payoutb=[prof,countb]\n",
    "        end\n",
    "        index=index+1\n",
    "    end\n",
    "    return expeted(payoutb)\n",
    "end"
   ]
  },
  {
   "cell_type": "markdown",
   "metadata": {},
   "source": [
    "arb: is a matrix of random probabilites of the player of intrest\n",
    "\n",
    "G:the matrix game for the player being of intrest\n",
    "\n",
    "t: is the strategy being of intrest\n",
    "\n",
    "r: is a matrix of random stategies for the oppent, so if the player was player 1 set then it would b d\n"
   ]
  },
  {
   "cell_type": "code",
   "execution_count": 36,
   "metadata": {},
   "outputs": [
    {
     "data": {
      "text/plain": [
       "13.33475498956284"
      ]
     },
     "execution_count": 36,
     "metadata": {},
     "output_type": "execute_result"
    }
   ],
   "source": [
    "fn(a,1,G1,d)"
   ]
  },
  {
   "cell_type": "code",
   "execution_count": 41,
   "metadata": {},
   "outputs": [
    {
     "data": {
      "text/plain": [
       "cell (generic function with 1 method)"
      ]
     },
     "execution_count": 41,
     "metadata": {},
     "output_type": "execute_result"
    }
   ],
   "source": [
    "function cell(game,actions)\n",
    "    g1=[fn(a,1,G1,d),fn(a,2,G1,d),fn(a,3,G1,d)]\n",
    "    g2=[fn(b,1,G2,a),fn(b,2,G2,a),fn(b,3,G2,a)]\n",
    "    g3=[fn(c,1,G3,b),fn(c,2,G3,b),fn(c,3,G3,b)]\n",
    "    g4=[fn(d,1,G4,c),fn(d,2,G4,c),fn(d,3,G4,c)]\n",
    "    z=findmax(g1)\n",
    "    y=findmax(g2)\n",
    "    x=findmax(g3)\n",
    "    w=findmax(g4) #write out the alphbet backwards was one of the largest challanges in desiging this \n",
    "    list=[z[2],y[2],x[2],w[2]]\n",
    "    return list\n",
    "end"
   ]
  },
  {
   "cell_type": "code",
   "execution_count": 47,
   "metadata": {},
   "outputs": [
    {
     "data": {
      "text/plain": [
       "4-element Vector{Int64}:\n",
       " 1\n",
       " 2\n",
       " 1\n",
       " 1"
      ]
     },
     "execution_count": 47,
     "metadata": {},
     "output_type": "execute_result"
    }
   ],
   "source": [
    "action1=cell(game,actions)"
   ]
  },
  {
   "cell_type": "code",
   "execution_count": 91,
   "metadata": {},
   "outputs": [
    {
     "data": {
      "text/plain": [
       "level_up (generic function with 3 methods)"
      ]
     },
     "execution_count": 91,
     "metadata": {},
     "output_type": "execute_result"
    }
   ],
   "source": [
    "function level_up(action,game,g)\n",
    "    payout1=game[1,action[g]]\n",
    "    payout2=game[2,action[g]]\n",
    "    payout3=game[3,action[g]]\n",
    "    pay=[payout1,payout2,payout3]\n",
    "    return findmax(pay)[2]\n",
    "end"
   ]
  },
  {
   "cell_type": "markdown",
   "metadata": {},
   "source": [
    "action 1: are the action profiles of a level 1 players across all the games\n",
    "\n",
    "game: the matrix game for the player being of intrest\n",
    "\n",
    "g: is the action where investegting from the action1 vector (the action of the oppenet that corrsponds to the particalar matrix we're investigating if were looking at player 1, then it would be 4)"
   ]
  },
  {
   "cell_type": "code",
   "execution_count": 92,
   "metadata": {},
   "outputs": [
    {
     "data": {
      "text/plain": [
       "3"
      ]
     },
     "execution_count": 92,
     "metadata": {},
     "output_type": "execute_result"
    }
   ],
   "source": [
    "level_up(action1,G1,4)"
   ]
  },
  {
   "cell_type": "code",
   "execution_count": 93,
   "metadata": {},
   "outputs": [
    {
     "data": {
      "text/plain": [
       "full_prof (generic function with 2 methods)"
      ]
     },
     "execution_count": 93,
     "metadata": {},
     "output_type": "execute_result"
    }
   ],
   "source": [
    "function full_prof(action)\n",
    "    move1=level_up(action,G1,4)\n",
    "    move2=level_up(action,G2,1)\n",
    "    move3=level_up(action,G3,2)\n",
    "    move4=level_up(action,G4,3)\n",
    "    moves=[move1,move2,move3,move4]\n",
    "    return moves\n",
    "end"
   ]
  },
  {
   "cell_type": "code",
   "execution_count": 94,
   "metadata": {},
   "outputs": [
    {
     "data": {
      "text/plain": [
       "4-element Vector{Int64}:\n",
       " 3\n",
       " 2\n",
       " 3\n",
       " 1"
      ]
     },
     "execution_count": 94,
     "metadata": {},
     "output_type": "execute_result"
    }
   ],
   "source": [
    "action2=full_prof(action1)"
   ]
  },
  {
   "cell_type": "code",
   "execution_count": 102,
   "metadata": {},
   "outputs": [
    {
     "data": {
      "text/plain": [
       "level_to_n (generic function with 2 methods)"
      ]
     },
     "execution_count": 102,
     "metadata": {},
     "output_type": "execute_result"
    }
   ],
   "source": [
    "function level_to_n(action,n)\n",
    "    for i in n\n",
    "        action=full_prof(action)\n",
    "        \n",
    "    end\n",
    "    return(action)\n",
    "end"
   ]
  },
  {
   "cell_type": "code",
   "execution_count": 103,
   "metadata": {},
   "outputs": [
    {
     "data": {
      "text/plain": [
       "4-element Vector{Int64}:\n",
       " 3\n",
       " 3\n",
       " 2\n",
       " 1"
      ]
     },
     "execution_count": 103,
     "metadata": {},
     "output_type": "execute_result"
    }
   ],
   "source": [
    "level_to_n(action2,100)"
   ]
  }
 ],
 "metadata": {
  "kernelspec": {
   "display_name": "Julia 1.7.1",
   "language": "julia",
   "name": "julia-1.7"
  },
  "language_info": {
   "file_extension": ".jl",
   "mimetype": "application/julia",
   "name": "julia",
   "version": "1.7.1"
  }
 },
 "nbformat": 4,
 "nbformat_minor": 4
}
